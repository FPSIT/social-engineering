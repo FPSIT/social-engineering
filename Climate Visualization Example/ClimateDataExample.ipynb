{
 "cells": [
  {
   "cell_type": "markdown",
   "metadata": {},
   "source": [
    "# Sky Visualization from the LCD dataset\n",
    "\n",
    "The Local Climatological Data (LCD) summaries provide a synopsis of climatic values for a single weather\n",
    "station over a specific month. The summaries are a product of surface observations from both manual and\n",
    "automated (`AWOS`, `ASOS`) stations with source data taken from the National Centers for Environmental\n",
    "Information’s Integrated Surface Data (`ISD`) dataset. Geographic availability includes thousands of locations\n",
    "worldwide. Climatic values given include hourly, daily, and monthly measurements of temperature, dew point,\n",
    "humidity, winds, sky condition, weather type, atmospheric pressure and more."
   ]
  },
  {
   "cell_type": "markdown",
   "metadata": {},
   "source": [
    "## Sky Conditions \n",
    "A report of each cloud layer (up to 3) giving the following information.\n",
    "\n",
    "Each layer given in the following format: `ccc`:`ll`-`xxx` where:\n",
    "\n",
    "`ccc` and `ll` are the coverage of a layer is in oktas (i.e. eighths) of sky covered by cloud as per the following table:\n",
    "\n",
    "| ccc      | ll | description\n",
    "|----------|-----|--------\n",
    "| CLR      |   0 | clear sky\n",
    "| FEW      | 1-2 | few clouds\n",
    "| SCT      | 3-4 | scattered clouds\n",
    "| BKN      | 5-8 | broken clouds\n",
    "| OVC      | 8   | overcast\n",
    "| VV       | 9-10| obscuration (full, partial)\n",
    " \n",
    "And `xxx` is the Cloud base height at lowest point of layer. In the case of an obscuration this value represents the vertical visibility from the point of observation. Given in hundreds of feet (e.g. 50 = 5000 ft, 120 = 12000 feet).\n",
    "\n",
    "In some cases a cloud base height will be given without the corresponding cloud amount. In these case the cloud amount is missing or not reported.\n",
    "\n",
    "Up to 3 layers can be reported however by definition when clear skies are reported it will be reported as only one layer as `CLR`-`00`.\n",
    "\n",
    "**Note**: Since up to 3 cloud layers can be reported, the full state of the sky can best be determined by the contraction given for the last layer. In other words if three layers are reported and the third layer uses `BKN` then the total state of sky is `BKN` which is similar in definition to *mostly cloudy.* `OVC` is similar to *cloudy* or overcast and `FEW` or `SCT` is similar to *partly cloudy.* It should also be noted that in cases where there are more than 3 cloud layers, the highest layers will not be reported. "
   ]
  },
  {
   "cell_type": "markdown",
   "metadata": {},
   "source": [
    "### Run this cell for additional info"
   ]
  },
  {
   "cell_type": "code",
   "execution_count": 1,
   "metadata": {},
   "outputs": [],
   "source": [
    "import os\n",
    "with open('link.txt', 'r') as link_file:\n",
    "    url = link_file.readline()\n",
    "os.startfile(url)"
   ]
  },
  {
   "cell_type": "markdown",
   "metadata": {},
   "source": [
    "# Imports"
   ]
  },
  {
   "cell_type": "code",
   "execution_count": 2,
   "metadata": {},
   "outputs": [],
   "source": [
    "from PIL import Image, ImageDraw, ImageFont\n",
    "from random import randint\n",
    "from ipywidgets import interact\n",
    "import pandas as pd\n",
    "import re"
   ]
  },
  {
   "cell_type": "markdown",
   "metadata": {},
   "source": [
    "# Read Data from Table"
   ]
  },
  {
   "cell_type": "code",
   "execution_count": 3,
   "metadata": {},
   "outputs": [
    {
     "data": {
      "text/plain": [
       "0                   SCT:04 70 OVC:08 90\n",
       "1                             OVC:08 50\n",
       "2                             OVC:08 29\n",
       "3                               VV:09 9\n",
       "4                              OVC:08 8\n",
       "5                   BKN:07 10 OVC:08 20\n",
       "6                   BKN:07 12 OVC:08 20\n",
       "7                   BKN:07 14 OVC:08 25\n",
       "8                             OVC:08 27\n",
       "9                   SCT:04 27 OVC:08 35\n",
       "10                 BKN:07 35 OVC:08 150\n",
       "11        SCT:04 45 BKN:07 65 OVC:08 80\n",
       "12                 BKN:07 45 BKN:07 100\n",
       "13       BKN:07 55 BKN:07 75 OVC:08 150\n",
       "14       FEW:02 25 BKN:07 60 OVC:08 150\n",
       "15                  BKN:07 18 OVC:08 50\n",
       "16        SCT:04 12 BKN:07 30 OVC:08 60\n",
       "17                             VV:09 10\n",
       "18                             VV:09 11\n",
       "19                            OVC:08 17\n",
       "20                            OVC:08 25\n",
       "21                             VV:09 15\n",
       "22                  BKN:07 20 OVC:08 31\n",
       "23                            OVC:08 34\n",
       "24                            OVC:08 15\n",
       "25        FEW:02 18 SCT:04 23 OVC:08 36\n",
       "26                  SCT:04 23 OVC:08 39\n",
       "27                            OVC:08 45\n",
       "28                  FEW:02 25 OVC:08 65\n",
       "29                            OVC:08 60\n",
       "                     ...               \n",
       "712                          SCT:04 250\n",
       "713               FEW:02 200 BKN:07 250\n",
       "714               FEW:02 200 BKN:07 250\n",
       "715                          SCT:04 250\n",
       "716               SCT:04 200 BKN:07 250\n",
       "717               SCT:04 200 BKN:07 250\n",
       "718                          SCT:04 250\n",
       "719                          BKN:07 250\n",
       "720                          BKN:07 250\n",
       "721               SCT:04 150 BKN:07 250\n",
       "722               BKN:07 140 BKN:07 250\n",
       "723               BKN:07 110 BKN:07 250\n",
       "724               SCT:04 110 BKN:07 250\n",
       "725               BKN:07 120 BKN:07 250\n",
       "726               FEW:02 120 BKN:07 250\n",
       "727               FEW:02 140 BKN:07 250\n",
       "728                          BKN:07 250\n",
       "729               FEW:02 180 BKN:07 250\n",
       "730               FEW:02 140 BKN:07 250\n",
       "731                          BKN:07 250\n",
       "732               FEW:02 180 BKN:07 250\n",
       "733    FEW:02 180 SCT:04 220 OVC:08 250\n",
       "734    SCT:04 120 BKN:07 140 OVC:08 250\n",
       "735    FEW:02 140 BKN:07 220 OVC:08 250\n",
       "736               BKN:07 110 BKN:07 230\n",
       "737    SCT:04 100 BKN:07 120 BKN:07 220\n",
       "738                SCT:04 85 OVC:08 100\n",
       "739                 FEW:02 55 OVC:08 80\n",
       "740                           OVC:08 85\n",
       "741      FEW:02 60 BKN:07 80 BKN:07 100\n",
       "Name: HourlySkyConditions, Length: 742, dtype: object"
      ]
     },
     "execution_count": 3,
     "metadata": {},
     "output_type": "execute_result"
    }
   ],
   "source": [
    "data = pd.read_csv('ChicagoAirport.csv')\n",
    "sky_data = data['HourlySkyConditions']\n",
    "sky_data"
   ]
  },
  {
   "cell_type": "markdown",
   "metadata": {},
   "source": [
    "# Parsing Sky Condition Code using External File"
   ]
  },
  {
   "cell_type": "code",
   "execution_count": 4,
   "metadata": {},
   "outputs": [],
   "source": [
    "def process_sky_data(entry):\n",
    "    entry2 = f'\"{entry}\"'\n",
    "    a = !process_sky_data.py $entry2\n",
    "    return eval(a[0])"
   ]
  },
  {
   "cell_type": "code",
   "execution_count": 5,
   "metadata": {},
   "outputs": [
    {
     "data": {
      "text/plain": [
       "[(2, 55), (8, 80)]"
      ]
     },
     "execution_count": 5,
     "metadata": {},
     "output_type": "execute_result"
    }
   ],
   "source": [
    "test_data = \"FEW:02 55 OVC:08 80\"\n",
    "process_sky_data(test_data)"
   ]
  },
  {
   "cell_type": "markdown",
   "metadata": {},
   "source": [
    "# Cloud Layer Visualization"
   ]
  },
  {
   "cell_type": "code",
   "execution_count": 7,
   "metadata": {},
   "outputs": [
    {
     "data": {
      "application/vnd.jupyter.widget-view+json": {
       "model_id": "de4f9fa9206a44cd9f4682d280f2c0eb",
       "version_major": 2,
       "version_minor": 0
      },
      "text/plain": [
       "interactive(children=(IntSlider(value=370, description='hour', max=741), Output()), _dom_classes=('widget-inte…"
      ]
     },
     "metadata": {},
     "output_type": "display_data"
    }
   ],
   "source": [
    "@interact\n",
    "def show_sky(hour=(0, len(data)-1)):\n",
    "    \n",
    "    layers = process_sky_data(sky_data[hour])\n",
    "    \n",
    "    test_image = Image.new('RGBA', (100, 350), color=(0, 128, 255, 255))\n",
    "    draw = ImageDraw.Draw(test_image)\n",
    "    unicode_font = ImageFont.truetype(\"ARLRDBD.TTF\", size=50)\n",
    "\n",
    "    def draw_layer(coverage, height):\n",
    "        color = (255, 255, 255, 100) if coverage in range(0, 9) else (0, 0, 0, 255)\n",
    "        shape = \"•\" if coverage in range(0, 9) else '_'\n",
    "\n",
    "        new_base = Image.new('RGBA', (100, 350), color=(0, 0, 0, 0))\n",
    "        height2 = 350-height\n",
    "        for _ in range(2*coverage**2):\n",
    "            new_layer = Image.new('RGBA', (100, 350), color=(0, 0, 0, 0))\n",
    "            layer_draw = ImageDraw.Draw(new_layer)\n",
    "            x = randint(-30, 130)\n",
    "            y = randint(height2-60, height2-30)\n",
    "            layer_draw.text((x, y), shape, font=unicode_font, fill=color)\n",
    "            new_base = Image.alpha_composite(new_base, new_layer)\n",
    "        return new_base\n",
    "    \n",
    "    for coverage, height in layers:\n",
    "        clouds = draw_layer(coverage, height)\n",
    "        test_image = Image.alpha_composite(test_image, clouds)\n",
    "    return test_image\n",
    "\n"
   ]
  }
 ],
 "metadata": {
  "kernelspec": {
   "display_name": "Python 3",
   "language": "python",
   "name": "python3"
  },
  "language_info": {
   "codemirror_mode": {
    "name": "ipython",
    "version": 3
   },
   "file_extension": ".py",
   "mimetype": "text/x-python",
   "name": "python",
   "nbconvert_exporter": "python",
   "pygments_lexer": "ipython3",
   "version": "3.6.1"
  }
 },
 "nbformat": 4,
 "nbformat_minor": 2
}
